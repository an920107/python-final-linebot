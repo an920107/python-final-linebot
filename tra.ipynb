{
 "cells": [
  {
   "cell_type": "code",
   "execution_count": 2,
   "metadata": {},
   "outputs": [],
   "source": [
    "import undetected_chromedriver as webdriver\n",
    "from selenium.webdriver.common.by import By\n",
    "from selenium.webdriver.common.keys import Keys\n",
    "from selenium.webdriver.support.select import Select\n",
    "import ddddocr\n",
    "import sqlite3\n",
    "\n",
    "from modules.chrome import Chrome"
   ]
  },
  {
   "cell_type": "code",
   "execution_count": 3,
   "metadata": {},
   "outputs": [],
   "source": [
    "# 初始化\n",
    "URL = \"https://tip.railway.gov.tw/tra-tip-web/tip/tip001/tip121/query\"\n",
    "\n",
    "options = webdriver.ChromeOptions()\n",
    "options.add_argument(\"--disable-notifications\")\n",
    "chrome = Chrome(options=options)\n",
    "chrome.set_window_size(1600, 1000)\n",
    "\n",
    "chrome.get(URL)\n",
    "\n",
    "sql = sqlite3.connect(\"sql/tra_stations.sqlite\")\n",
    "cursor = sql.cursor()"
   ]
  },
  {
   "cell_type": "code",
   "execution_count": 38,
   "metadata": {},
   "outputs": [
    {
     "name": "stdout",
     "output_type": "stream",
     "text": [
      " 1: 基隆市\n",
      " 2: 新北市\n",
      " 3: 臺北市\n",
      " 4: 桃園市\n",
      " 5: 新竹縣\n",
      " 6: 新竹市\n",
      " 7: 苗栗縣\n",
      " 8: 臺中市\n",
      " 9: 彰化縣\n",
      "10: 南投縣\n",
      "11: 雲林縣\n",
      "12: 嘉義縣\n",
      "13: 嘉義市\n",
      "14: 臺南市\n",
      "15: 高雄市\n",
      "16: 屏東縣\n",
      "17: 臺東縣\n",
      "18: 花蓮縣\n",
      "19: 宜蘭縣\n"
     ]
    }
   ],
   "source": [
    "# 列出地區\n",
    "cursor.execute(\"SELECT area FROM stations ORDER BY id\")\n",
    "areas_set = set()\n",
    "areas = []\n",
    "for area in map(lambda x: x[0], cursor.fetchall()):\n",
    "    if area not in areas_set:\n",
    "        areas.append(area)\n",
    "    areas_set.add(area)\n",
    "for i in range(len(areas)):\n",
    "    print(f\"{i + 1:2d}: {areas[i]}\")"
   ]
  },
  {
   "cell_type": "code",
   "execution_count": 73,
   "metadata": {},
   "outputs": [
    {
     "name": "stdout",
     "output_type": "stream",
     "text": [
      "1150: 北湖\n",
      "1160: 湖口\n",
      "1170: 新豐\n",
      "1180: 竹北\n",
      "1193: 竹中\n",
      "1194: 六家\n",
      "1201: 上員\n",
      "1202: 榮華\n",
      "1203: 竹東\n",
      "1204: 橫山\n",
      "1205: 九讚頭\n",
      "1206: 合興\n",
      "1207: 富貴\n",
      "1208: 內灣\n"
     ]
    }
   ],
   "source": [
    "# 列出車站\n",
    "AREA = \"新竹縣\"\n",
    "\n",
    "cursor.execute(f\"SELECT id, name FROM stations WHERE area = '{AREA}'\")\n",
    "stations = list(map(lambda x: {\"id\": x[0], \"name\": x[1]} ,cursor.fetchall()))\n",
    "for station in stations:\n",
    "    print(f\"{station['id']:04d}: {station['name']}\")"
   ]
  },
  {
   "cell_type": "code",
   "execution_count": 53,
   "metadata": {},
   "outputs": [],
   "source": [
    "# 輸入資料\n",
    "ID = \"J123073171\"\n",
    "FROM = \"1000-臺北\"\n",
    "TO = \"1210-新竹\"\n",
    "DATE = \"2023/05/31\"\n",
    "\n",
    "# 00:00    08:00    16:00\n",
    "#   |   or   |   or   |\n",
    "# 08:00    16:00    23:59\n",
    "# this time is end time\n",
    "TIME = \"23:59\"\n",
    "\n",
    "\n",
    "chrome.find_element(By.XPATH, \"//*[@id='queryForm']/div[1]/div[3]/div[2]/label[2]\").click()\n",
    "for label in chrome.find_elements(By.XPATH, \"//*[@id='queryForm']/div[2]/div[4]/div/div[2]/label\"):\n",
    "    label.click()\n",
    "id_input = chrome.find_element(By.ID, \"pid\")\n",
    "id_input.clear()\n",
    "id_input.send_keys(ID)\n",
    "from_input = chrome.find_element(By.ID, \"startStation1\")\n",
    "from_input.clear()\n",
    "from_input.send_keys(FROM)\n",
    "to_input = chrome.find_element(By.ID, \"endStation1\")\n",
    "to_input.clear()\n",
    "to_input.send_keys(TO)\n",
    "chrome.execute_script(f\"document.getElementById('rideDate1').setAttribute('value', '{DATE}')\")\n",
    "Select(chrome.find_element(By.ID, \"endTime1\")).select_by_visible_text(TIME)"
   ]
  },
  {
   "cell_type": "code",
   "execution_count": 54,
   "metadata": {},
   "outputs": [],
   "source": [
    "# 確認查詢\n",
    "chrome.find_element(By.XPATH, \"//*[@id='queryForm']/div[5]/input\").click()"
   ]
  },
  {
   "cell_type": "code",
   "execution_count": 72,
   "metadata": {},
   "outputs": [
    {
     "name": "stdout",
     "output_type": "stream",
     "text": [
      " 1  自強175 16:00 17:08 01小時08分 $177\n",
      " 2  莒光521 16:10 17:39 01小時29分 $137\n",
      " 3  自強139 17:00 18:08 01小時08分 $177\n",
      " 4  自強141 17:30 18:39 01小時09分 $177\n",
      " 5  自強177 17:40 19:08 01小時28分 $177\n"
     ]
    }
   ],
   "source": [
    "# 列出車次\n",
    "\n",
    "class Car:\n",
    "    def __init__(self, code: str, departure: str, arrival: str, time: str, price: str) -> None:\n",
    "        self.code = code.replace(\" \", \"\")\n",
    "        self.departure = departure\n",
    "        self.arrival = arrival\n",
    "        self.time = time.replace(\" \", \"\")\n",
    "        self.price = price.replace(\" \", \"\")\n",
    "\n",
    "car_list = []\n",
    "for tr in chrome.find_elements(By.CSS_SELECTOR, \"tr[class='trip-column']\"):\n",
    "    tds = tr.find_elements(By.CSS_SELECTOR, \"td\")\n",
    "    car_list.append(Car(tds[0].text, tds[2].text, tds[3].text, tds[4].text, tds[6].text))\n",
    "\n",
    "for i in range(len(car_list)):\n",
    "    car = car_list[i]\n",
    "    print(f\"{i + 1:2d} {car.code:>6} {car.departure} {car.arrival} {car.time} {car.price}\")\n"
   ]
  }
 ],
 "metadata": {
  "kernelspec": {
   "display_name": ".venv",
   "language": "python",
   "name": "python3"
  },
  "language_info": {
   "codemirror_mode": {
    "name": "ipython",
    "version": 3
   },
   "file_extension": ".py",
   "mimetype": "text/x-python",
   "name": "python",
   "nbconvert_exporter": "python",
   "pygments_lexer": "ipython3",
   "version": "3.10.6"
  },
  "orig_nbformat": 4
 },
 "nbformat": 4,
 "nbformat_minor": 2
}
