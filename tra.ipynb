{
 "cells": [
  {
   "cell_type": "code",
   "execution_count": 101,
   "metadata": {},
   "outputs": [],
   "source": [
    "import undetected_chromedriver as webdriver\n",
    "from selenium.webdriver.common.by import By\n",
    "from selenium.webdriver.common.keys import Keys\n",
    "from selenium.webdriver.support.select import Select\n",
    "from selenium.webdriver.remote.webelement import WebElement\n",
    "import ddddocr\n",
    "import sqlite3\n",
    "\n",
    "from modules.chrome import Chrome"
   ]
  },
  {
   "cell_type": "code",
   "execution_count": 91,
   "metadata": {},
   "outputs": [],
   "source": [
    "# 初始化\n",
    "URL = \"https://tip.railway.gov.tw/tra-tip-web/tip/tip001/tip123/query\"\n",
    "\n",
    "options = webdriver.ChromeOptions()\n",
    "options.add_argument(\"--disable-notifications\")\n",
    "chrome = Chrome(options=options)\n",
    "chrome.set_window_size(1600, 1000)\n",
    "\n",
    "chrome.get(URL)\n",
    "\n",
    "sql = sqlite3.connect(\"sql/tra_stations.sqlite\")\n",
    "cursor = sql.cursor()"
   ]
  },
  {
   "cell_type": "code",
   "execution_count": 92,
   "metadata": {},
   "outputs": [
    {
     "name": "stdout",
     "output_type": "stream",
     "text": [
      " 1: 基隆市\n",
      " 2: 新北市\n",
      " 3: 臺北市\n",
      " 4: 桃園市\n",
      " 5: 新竹縣\n",
      " 6: 新竹市\n",
      " 7: 苗栗縣\n",
      " 8: 臺中市\n",
      " 9: 彰化縣\n",
      "10: 南投縣\n",
      "11: 雲林縣\n",
      "12: 嘉義縣\n",
      "13: 嘉義市\n",
      "14: 臺南市\n",
      "15: 高雄市\n",
      "16: 屏東縣\n",
      "17: 臺東縣\n",
      "18: 花蓮縣\n",
      "19: 宜蘭縣\n"
     ]
    }
   ],
   "source": [
    "# 列出地區\n",
    "cursor.execute(\"SELECT area FROM stations ORDER BY id\")\n",
    "areas_set = set()\n",
    "areas = []\n",
    "for area in map(lambda x: x[0], cursor.fetchall()):\n",
    "    if area not in areas_set:\n",
    "        areas.append(area)\n",
    "    areas_set.add(area)\n",
    "for i in range(len(areas)):\n",
    "    print(f\"{i + 1:2d}: {areas[i]}\")"
   ]
  },
  {
   "cell_type": "code",
   "execution_count": 93,
   "metadata": {},
   "outputs": [
    {
     "name": "stdout",
     "output_type": "stream",
     "text": [
      "1150: 北湖\n",
      "1160: 湖口\n",
      "1170: 新豐\n",
      "1180: 竹北\n",
      "1193: 竹中\n",
      "1194: 六家\n",
      "1201: 上員\n",
      "1202: 榮華\n",
      "1203: 竹東\n",
      "1204: 橫山\n",
      "1205: 九讚頭\n",
      "1206: 合興\n",
      "1207: 富貴\n",
      "1208: 內灣\n"
     ]
    }
   ],
   "source": [
    "# 列出車站\n",
    "AREA = \"新竹縣\"\n",
    "\n",
    "cursor.execute(f\"SELECT id, name FROM stations WHERE area = '{AREA}'\")\n",
    "stations = list(map(lambda x: {\"id\": x[0], \"name\": x[1]} ,cursor.fetchall()))\n",
    "for station in stations:\n",
    "    print(f\"{station['id']:04d}: {station['name']}\")"
   ]
  },
  {
   "cell_type": "code",
   "execution_count": 94,
   "metadata": {},
   "outputs": [],
   "source": [
    "# 輸入資料\n",
    "ID = \"J123073171\"\n",
    "FROM = \"1000-臺北\"\n",
    "TO = \"1210-新竹\"\n",
    "DATE = \"2023/05/31\"\n",
    "\n",
    "# 00:00    08:00    16:00\n",
    "#   |   or   |   or   |\n",
    "# 08:00    16:00    23:59\n",
    "# this time is end time\n",
    "TIME = \"23:59\"\n",
    "\n",
    "\n",
    "chrome.find_element(By.XPATH, \"//*[@id='queryForm']/div[1]/div[3]/div[2]/label[2]\").click()\n",
    "for label in chrome.find_elements(By.XPATH, \"//*[@id='queryForm']/div[2]/div[4]/div/div[2]/label\"):\n",
    "    label.click()\n",
    "id_input = chrome.find_element(By.ID, \"pid\")\n",
    "id_input.clear()\n",
    "id_input.send_keys(ID)\n",
    "from_input = chrome.find_element(By.ID, \"startStation1\")\n",
    "from_input.clear()\n",
    "from_input.send_keys(FROM)\n",
    "to_input = chrome.find_element(By.ID, \"endStation1\")\n",
    "to_input.clear()\n",
    "to_input.send_keys(TO)\n",
    "chrome.execute_script(f\"document.getElementById('rideDate1').setAttribute('value', '{DATE}')\")\n",
    "Select(chrome.find_element(By.ID, \"endTime1\")).select_by_visible_text(TIME)"
   ]
  },
  {
   "cell_type": "code",
   "execution_count": 95,
   "metadata": {},
   "outputs": [],
   "source": [
    "# 確認查詢\n",
    "chrome.find_element(By.XPATH, \"//*[@id='queryForm']/div[5]/input\").click()"
   ]
  },
  {
   "cell_type": "code",
   "execution_count": 96,
   "metadata": {},
   "outputs": [
    {
     "name": "stdout",
     "output_type": "stream",
     "text": [
      " 1  自強175 16:00 17:08 01小時08分 $177\n",
      " 2  莒光521 16:10 17:39 01小時29分 $137\n",
      " 3  自強139 17:00 18:08 01小時08分 $177\n",
      " 4  自強141 17:30 18:39 01小時09分 $177\n",
      " 5  自強177 17:40 19:08 01小時28分 $177\n"
     ]
    }
   ],
   "source": [
    "# 列出車次\n",
    "class Car:\n",
    "    def __init__(self, code: str, departure: str, arrival: str, time: str, price: str, radio: WebElement) -> None:\n",
    "        self.code = code.replace(\" \", \"\")\n",
    "        self.departure = departure\n",
    "        self.arrival = arrival\n",
    "        self.time = time.replace(\" \", \"\")\n",
    "        self.price = price.replace(\" \", \"\")\n",
    "        self.radio = radio\n",
    "\n",
    "\n",
    "car_list = list(map(lambda x: Car(x[0].text, x[2].text, x[3].text, x[4].text, x[6].text, x[9].find_element(By.CSS_SELECTOR, \"label\")), map(\n",
    "    lambda x: x.find_elements(By.CSS_SELECTOR, \"td\"), chrome.find_elements(By.CSS_SELECTOR, \"tr[class='trip-column']\"))))\n",
    "\n",
    "for i in range(len(car_list)):\n",
    "    car = car_list[i]\n",
    "    print(f\"{i + 1:2d} {car.code:>6} {car.departure} {car.arrival} {car.time} {car.price}\")"
   ]
  },
  {
   "cell_type": "code",
   "execution_count": 100,
   "metadata": {},
   "outputs": [
    {
     "ename": "NoSuchElementException",
     "evalue": "Message: no such element: Unable to locate element: {\"method\":\"css selector\",\"selector\":\"div[class='recaptcha-checkbox-border']\"}\n  (Session info: chrome=113.0.5672.126)\nStacktrace:\n#0 0x55b07fdbc133 <unknown>\n#1 0x55b07faf0966 <unknown>\n#2 0x55b07fb2d0dc <unknown>\n#3 0x55b07fb2d211 <unknown>\n#4 0x55b07fb676c4 <unknown>\n#5 0x55b07fb4cbfd <unknown>\n#6 0x55b07fb651c7 <unknown>\n#7 0x55b07fb4c9a3 <unknown>\n#8 0x55b07fb2146a <unknown>\n#9 0x55b07fb2255e <unknown>\n#10 0x55b07fd7bcae <unknown>\n#11 0x55b07fd7f8fe <unknown>\n#12 0x55b07fd88f20 <unknown>\n#13 0x55b07fd80923 <unknown>\n#14 0x55b07fd53c0e <unknown>\n#15 0x55b07fda3b08 <unknown>\n#16 0x55b07fda3c97 <unknown>\n#17 0x55b07fdb4113 <unknown>\n#18 0x7f0f65894b43 <unknown>\n",
     "output_type": "error",
     "traceback": [
      "\u001b[0;31m---------------------------------------------------------------------------\u001b[0m",
      "\u001b[0;31mNoSuchElementException\u001b[0m                    Traceback (most recent call last)",
      "Cell \u001b[0;32mIn[100], line 4\u001b[0m\n\u001b[1;32m      2\u001b[0m SELECTED \u001b[39m=\u001b[39m \u001b[39m0\u001b[39m\n\u001b[1;32m      3\u001b[0m car_list[SELECTED]\u001b[39m.\u001b[39mradio\u001b[39m.\u001b[39mclick()\n\u001b[0;32m----> 4\u001b[0m chrome\u001b[39m.\u001b[39;49mfind_element(By\u001b[39m.\u001b[39;49mCSS_SELECTOR, \u001b[39m\"\u001b[39;49m\u001b[39mdiv[class=\u001b[39;49m\u001b[39m'\u001b[39;49m\u001b[39mrecaptcha-checkbox-border\u001b[39;49m\u001b[39m'\u001b[39;49m\u001b[39m]\u001b[39;49m\u001b[39m\"\u001b[39;49m)\u001b[39m.\u001b[39mclick()\n\u001b[1;32m      5\u001b[0m chrome\u001b[39m.\u001b[39mfind_element(By\u001b[39m.\u001b[39mXPATH, \u001b[39m\"\u001b[39m\u001b[39m//*[@id=\u001b[39m\u001b[39m'\u001b[39m\u001b[39mqueryForm\u001b[39m\u001b[39m'\u001b[39m\u001b[39m]/div[2]/button[2]\u001b[39m\u001b[39m\"\u001b[39m)\u001b[39m.\u001b[39mclick()\n",
      "File \u001b[0;32m~/Documents/python-final-linebot/.venv/lib/python3.10/site-packages/selenium/webdriver/remote/webdriver.py:831\u001b[0m, in \u001b[0;36mWebDriver.find_element\u001b[0;34m(self, by, value)\u001b[0m\n\u001b[1;32m    828\u001b[0m     by \u001b[39m=\u001b[39m By\u001b[39m.\u001b[39mCSS_SELECTOR\n\u001b[1;32m    829\u001b[0m     value \u001b[39m=\u001b[39m \u001b[39mf\u001b[39m\u001b[39m'\u001b[39m\u001b[39m[name=\u001b[39m\u001b[39m\"\u001b[39m\u001b[39m{\u001b[39;00mvalue\u001b[39m}\u001b[39;00m\u001b[39m\"\u001b[39m\u001b[39m]\u001b[39m\u001b[39m'\u001b[39m\n\u001b[0;32m--> 831\u001b[0m \u001b[39mreturn\u001b[39;00m \u001b[39mself\u001b[39;49m\u001b[39m.\u001b[39;49mexecute(Command\u001b[39m.\u001b[39;49mFIND_ELEMENT, {\u001b[39m\"\u001b[39;49m\u001b[39musing\u001b[39;49m\u001b[39m\"\u001b[39;49m: by, \u001b[39m\"\u001b[39;49m\u001b[39mvalue\u001b[39;49m\u001b[39m\"\u001b[39;49m: value})[\u001b[39m\"\u001b[39m\u001b[39mvalue\u001b[39m\u001b[39m\"\u001b[39m]\n",
      "File \u001b[0;32m~/Documents/python-final-linebot/.venv/lib/python3.10/site-packages/selenium/webdriver/remote/webdriver.py:440\u001b[0m, in \u001b[0;36mWebDriver.execute\u001b[0;34m(self, driver_command, params)\u001b[0m\n\u001b[1;32m    438\u001b[0m response \u001b[39m=\u001b[39m \u001b[39mself\u001b[39m\u001b[39m.\u001b[39mcommand_executor\u001b[39m.\u001b[39mexecute(driver_command, params)\n\u001b[1;32m    439\u001b[0m \u001b[39mif\u001b[39;00m response:\n\u001b[0;32m--> 440\u001b[0m     \u001b[39mself\u001b[39;49m\u001b[39m.\u001b[39;49merror_handler\u001b[39m.\u001b[39;49mcheck_response(response)\n\u001b[1;32m    441\u001b[0m     response[\u001b[39m\"\u001b[39m\u001b[39mvalue\u001b[39m\u001b[39m\"\u001b[39m] \u001b[39m=\u001b[39m \u001b[39mself\u001b[39m\u001b[39m.\u001b[39m_unwrap_value(response\u001b[39m.\u001b[39mget(\u001b[39m\"\u001b[39m\u001b[39mvalue\u001b[39m\u001b[39m\"\u001b[39m, \u001b[39mNone\u001b[39;00m))\n\u001b[1;32m    442\u001b[0m     \u001b[39mreturn\u001b[39;00m response\n",
      "File \u001b[0;32m~/Documents/python-final-linebot/.venv/lib/python3.10/site-packages/selenium/webdriver/remote/errorhandler.py:245\u001b[0m, in \u001b[0;36mErrorHandler.check_response\u001b[0;34m(self, response)\u001b[0m\n\u001b[1;32m    243\u001b[0m         alert_text \u001b[39m=\u001b[39m value[\u001b[39m\"\u001b[39m\u001b[39malert\u001b[39m\u001b[39m\"\u001b[39m]\u001b[39m.\u001b[39mget(\u001b[39m\"\u001b[39m\u001b[39mtext\u001b[39m\u001b[39m\"\u001b[39m)\n\u001b[1;32m    244\u001b[0m     \u001b[39mraise\u001b[39;00m exception_class(message, screen, stacktrace, alert_text)  \u001b[39m# type: ignore[call-arg]  # mypy is not smart enough here\u001b[39;00m\n\u001b[0;32m--> 245\u001b[0m \u001b[39mraise\u001b[39;00m exception_class(message, screen, stacktrace)\n",
      "\u001b[0;31mNoSuchElementException\u001b[0m: Message: no such element: Unable to locate element: {\"method\":\"css selector\",\"selector\":\"div[class='recaptcha-checkbox-border']\"}\n  (Session info: chrome=113.0.5672.126)\nStacktrace:\n#0 0x55b07fdbc133 <unknown>\n#1 0x55b07faf0966 <unknown>\n#2 0x55b07fb2d0dc <unknown>\n#3 0x55b07fb2d211 <unknown>\n#4 0x55b07fb676c4 <unknown>\n#5 0x55b07fb4cbfd <unknown>\n#6 0x55b07fb651c7 <unknown>\n#7 0x55b07fb4c9a3 <unknown>\n#8 0x55b07fb2146a <unknown>\n#9 0x55b07fb2255e <unknown>\n#10 0x55b07fd7bcae <unknown>\n#11 0x55b07fd7f8fe <unknown>\n#12 0x55b07fd88f20 <unknown>\n#13 0x55b07fd80923 <unknown>\n#14 0x55b07fd53c0e <unknown>\n#15 0x55b07fda3b08 <unknown>\n#16 0x55b07fda3c97 <unknown>\n#17 0x55b07fdb4113 <unknown>\n#18 0x7f0f65894b43 <unknown>\n"
     ]
    }
   ],
   "source": [
    "# 選擇班次\n",
    "SELECTED = 0\n",
    "car_list[SELECTED].radio.click()\n",
    "# chrome.find_element(By.CSS_SELECTOR, \"div[class='recaptcha-checkbox-border']\").click()\n",
    "\n",
    "# WebDriverWait(driver, 10).until(EC.frame_to_be_available_and_switch_to_it((By.CSS_SELECTOR,\"iframe[name^='a-'][src^='https://www.google.com/recaptcha/api2/anchor?']\")))\n",
    "# WebDriverWait(driver, 10).until(EC.element_to_be_clickable((By.XPATH, \"//span[@id='recaptcha-anchor']\"))).click()\n",
    "\n",
    "# chrome.find_element(By.XPATH, \"//*[@id='queryForm']/div[2]/button[2]\").click()\n"
   ]
  },
  {
   "cell_type": "code",
   "execution_count": null,
   "metadata": {},
   "outputs": [],
   "source": []
  }
 ],
 "metadata": {
  "kernelspec": {
   "display_name": ".venv",
   "language": "python",
   "name": "python3"
  },
  "language_info": {
   "codemirror_mode": {
    "name": "ipython",
    "version": 3
   },
   "file_extension": ".py",
   "mimetype": "text/x-python",
   "name": "python",
   "nbconvert_exporter": "python",
   "pygments_lexer": "ipython3",
   "version": "3.10.6"
  },
  "orig_nbformat": 4
 },
 "nbformat": 4,
 "nbformat_minor": 2
}
