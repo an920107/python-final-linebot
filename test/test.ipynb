{
 "cells": [
  {
   "cell_type": "code",
   "execution_count": 48,
   "metadata": {},
   "outputs": [],
   "source": [
    "import undetected_chromedriver as webdriver\n",
    "from selenium.webdriver.common.by import By\n",
    "from selenium.webdriver.common.keys import Keys\n",
    "from selenium.webdriver.support.select import Select\n",
    "import os\n",
    "import io\n",
    "import time\n",
    "import json\n",
    "import ddddocr\n",
    "import PIL\n",
    "\n",
    "from modules.chrome import Chrome"
   ]
  },
  {
   "cell_type": "code",
   "execution_count": 49,
   "metadata": {},
   "outputs": [],
   "source": [
    "# 初始化\n",
    "URL = \"https://irs.thsrc.com.tw/IMINT/\"\n",
    "\n",
    "options = webdriver.ChromeOptions()\n",
    "options.add_argument(\"--disable-notifications\")\n",
    "chrome = Chrome(options=options)\n",
    "chrome.set_window_size(1600, 1000)\n",
    "\n",
    "chrome.get(URL)"
   ]
  },
  {
   "cell_type": "code",
   "execution_count": 50,
   "metadata": {},
   "outputs": [],
   "source": [
    "# 同意 cookie\n",
    "chrome.find_element_and_wait(\n",
    "    By.XPATH, \"//*[@id='cookieAccpetBtn']\", 10000).click()"
   ]
  },
  {
   "cell_type": "code",
   "execution_count": 51,
   "metadata": {},
   "outputs": [],
   "source": [
    "# 輸入訂票資訊\n",
    "\n",
    "FROM = u\"桃園\"\n",
    "TO = u\"新竹\"\n",
    "ADULT = u\"0\"\n",
    "CHILD = u\"0\"\n",
    "HEART = u\"0\"\n",
    "ELDER = u\"0\"\n",
    "STUDENT = u\"1\"\n",
    "DATE = u\"2023/05/30\"\n",
    "TIME = u\"10:00\"\n",
    "\n",
    "Select(chrome.find_element(By.XPATH,\n",
    "       \"//*[@id='BookingS1Form']/div[3]/div[1]/div/div[1]/div/select\")).select_by_visible_text(FROM)\n",
    "Select(chrome.find_element(By.XPATH,\n",
    "       \"//*[@id='BookingS1Form']/div[3]/div[1]/div/div[2]/div/select\")).select_by_visible_text(TO)\n",
    "Select(chrome.find_element(By.XPATH,\n",
    "       \"//*[@id='BookingS1Form']/div[4]/div[1]/div[1]/div/select\")).select_by_visible_text(ADULT)\n",
    "Select(chrome.find_element(By.XPATH,\n",
    "       \"//*[@id='BookingS1Form']/div[4]/div[1]/div[2]/div/select\")).select_by_visible_text(CHILD)\n",
    "Select(chrome.find_element(By.XPATH,\n",
    "       \"//*[@id='BookingS1Form']/div[4]/div[1]/div[3]/div/select\")).select_by_visible_text(HEART)\n",
    "Select(chrome.find_element(By.XPATH,\n",
    "       \"//*[@id='BookingS1Form']/div[4]/div[1]/div[4]/div/select\")).select_by_visible_text(ELDER)\n",
    "Select(chrome.find_element(By.XPATH,\n",
    "       \"//*[@id='BookingS1Form']/div[4]/div[1]/div[5]/div/select\")).select_by_visible_text(STUDENT)\n",
    "# chrome.find_element(By.XPATH,\n",
    "#                     \"//*[@id='toTimeInputField']\").set(DATE)\n",
    "Select(chrome.find_element(By.XPATH,\n",
    "       \"//*[@id='BookingS1Form']/div[3]/div[2]/div/div[2]/div[1]/select\")).select_by_visible_text(TIME)\n",
    "\n",
    "\n"
   ]
  },
  {
   "cell_type": "code",
   "execution_count": 66,
   "metadata": {},
   "outputs": [
    {
     "name": "stdout",
     "output_type": "stream",
     "text": [
      "欢迎使用ddddocr，本项目专注带动行业内卷，个人博客:wenanzhe.com\n",
      "训练数据支持来源于:http://146.56.204.113:19199/preview\n",
      "爬虫框架feapder可快速一键接入，快速开启爬虫之旅：https://github.com/Boris-code/feapder\n",
      "谷歌reCaptcha验证码 / hCaptcha验证码 / funCaptcha验证码商业级识别接口：https://yescaptcha.com/i/NSwk7i\n"
     ]
    }
   ],
   "source": [
    "# 驗證碼\n",
    "image_stream = io.BytesIO(chrome.find_element(By.XPATH, \"//*[@id='BookingS1Form_homeCaptcha_passCode']\").screenshot_as_png)\n",
    "im = PIL.Image.open(image_stream)\n",
    "im.save(\"image.png\")\n",
    "with open(\"image.png\", \"rb\") as f:\n",
    "    image_bytes = f.read()\n",
    "security_code = ddddocr.DdddOcr().classification(image_bytes)\n",
    "security_code_blank = chrome.find_element(By.XPATH, \"//*[@id='securityCode']\")\n",
    "security_code_blank.clear()\n",
    "security_code_blank.send_keys(security_code)"
   ]
  },
  {
   "cell_type": "code",
   "execution_count": 54,
   "metadata": {},
   "outputs": [],
   "source": [
    "# 提交表單\n",
    "chrome.find_element(By.XPATH, \"//*[@id='SubmitButton']\").click()"
   ]
  },
  {
   "cell_type": "code",
   "execution_count": 65,
   "metadata": {},
   "outputs": [
    {
     "name": "stdout",
     "output_type": "stream",
     "text": [
      "學生88折\n",
      "學生75折\n",
      "學生75折\n",
      "學生88折\n",
      "學生75折\n",
      "學生75折\n",
      "學生75折\n",
      "學生75折\n",
      "學生75折\n",
      "學生88折\n"
     ]
    }
   ],
   "source": [
    "# span_list = chrome.find_elements(By.XPATH, \"//*[@id='BookingS2Form_TrainQueryDataViewPanel']/div[2]/*\")\n",
    "# for span in span_list:\n",
    "\n",
    "for elm in chrome.find_elements(By.ID, \"QueryDeparture\"):\n",
    "    print(elm.text)\n",
    "print()\n",
    "for elm in chrome.find_elements(By.ID, \"QueryArrival\"):\n",
    "    print(elm.text)\n",
    "print()\n",
    "for elm in chrome.find_elements(By.ID, \"QueryCode\"):\n",
    "    print(elm.text)\n",
    "print()\n",
    "for elm in chrome.find_elements(By.CSS_SELECTOR, \"p[class='type student']\"):\n",
    "    print(elm.text)\n",
    "\n",
    "    # QueryCode"
   ]
  }
 ],
 "metadata": {
  "kernelspec": {
   "display_name": "Python 3",
   "language": "python",
   "name": "python3"
  },
  "language_info": {
   "codemirror_mode": {
    "name": "ipython",
    "version": 3
   },
   "file_extension": ".py",
   "mimetype": "text/x-python",
   "name": "python",
   "nbconvert_exporter": "python",
   "pygments_lexer": "ipython3",
   "version": "3.10.6"
  },
  "orig_nbformat": 4
 },
 "nbformat": 4,
 "nbformat_minor": 2
}
