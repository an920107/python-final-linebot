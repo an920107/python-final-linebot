{
 "cells": [
  {
   "cell_type": "code",
   "execution_count": 25,
   "metadata": {},
   "outputs": [],
   "source": [
    "import undetected_chromedriver as webdriver\n",
    "from selenium.webdriver.common.by import By\n",
    "from selenium.webdriver.common.keys import Keys\n",
    "from selenium.webdriver.support.select import Select\n",
    "import ddddocr\n",
    "\n",
    "from modules.chrome import Chrome"
   ]
  },
  {
   "cell_type": "code",
   "execution_count": 26,
   "metadata": {},
   "outputs": [],
   "source": [
    "# 初始化\n",
    "URL = \"https://irs.thsrc.com.tw/IMINT/\"\n",
    "\n",
    "options = webdriver.ChromeOptions()\n",
    "options.add_argument(\"--disable-notifications\")\n",
    "chrome = Chrome(options=options)\n",
    "chrome.set_window_size(1600, 1000)\n",
    "\n",
    "chrome.get(URL)"
   ]
  },
  {
   "cell_type": "code",
   "execution_count": 27,
   "metadata": {},
   "outputs": [],
   "source": [
    "# 同意 cookie\n",
    "try:\n",
    "    chrome.find_element_and_wait(\n",
    "        By.XPATH, \"//*[@id='cookieAccpetBtn']\", 1000).click()\n",
    "except:\n",
    "    pass"
   ]
  },
  {
   "cell_type": "code",
   "execution_count": 28,
   "metadata": {},
   "outputs": [],
   "source": [
    "# 輸入訂票資訊\n",
    "FROM = u\"桃園\"\n",
    "TO = u\"新竹\"\n",
    "ADULT = u\"0\"\n",
    "CHILD = u\"0\"\n",
    "HEART = u\"0\"\n",
    "ELDER = u\"0\"\n",
    "STUDENT = u\"1\"\n",
    "DATE = u\"2023/05/31\"\n",
    "TIME = u\"10:00\"\n",
    "\n",
    "Select(chrome.find_element(By.XPATH,\n",
    "       \"//*[@id='BookingS1Form']/div[3]/div[1]/div/div[1]/div/select\")).select_by_visible_text(FROM)\n",
    "Select(chrome.find_element(By.XPATH,\n",
    "       \"//*[@id='BookingS1Form']/div[3]/div[1]/div/div[2]/div/select\")).select_by_visible_text(TO)\n",
    "Select(chrome.find_element(By.XPATH,\n",
    "       \"//*[@id='BookingS1Form']/div[4]/div[1]/div[1]/div/select\")).select_by_visible_text(ADULT)\n",
    "Select(chrome.find_element(By.XPATH,\n",
    "       \"//*[@id='BookingS1Form']/div[4]/div[1]/div[2]/div/select\")).select_by_visible_text(CHILD)\n",
    "Select(chrome.find_element(By.XPATH,\n",
    "       \"//*[@id='BookingS1Form']/div[4]/div[1]/div[3]/div/select\")).select_by_visible_text(HEART)\n",
    "Select(chrome.find_element(By.XPATH,\n",
    "       \"//*[@id='BookingS1Form']/div[4]/div[1]/div[4]/div/select\")).select_by_visible_text(ELDER)\n",
    "Select(chrome.find_element(By.XPATH,\n",
    "       \"//*[@id='BookingS1Form']/div[4]/div[1]/div[5]/div/select\")).select_by_visible_text(STUDENT)\n",
    "chrome.execute_script(f\"document.getElementById('toTimeInputField').setAttribute('value', '{DATE}')\")\n",
    "# chrome.find_element(By.XPATH,\n",
    "#                     \"//*[@id='toTimeInputField']\").send_keys(DATE)\n",
    "Select(chrome.find_element(By.XPATH,\n",
    "       \"//*[@id='BookingS1Form']/div[3]/div[2]/div/div[2]/div[1]/select\")).select_by_visible_text(TIME)"
   ]
  },
  {
   "cell_type": "code",
   "execution_count": 30,
   "metadata": {},
   "outputs": [
    {
     "name": "stdout",
     "output_type": "stream",
     "text": [
      "欢迎使用ddddocr，本项目专注带动行业内卷，个人博客:wenanzhe.com\n",
      "训练数据支持来源于:http://146.56.204.113:19199/preview\n",
      "爬虫框架feapder可快速一键接入，快速开启爬虫之旅：https://github.com/Boris-code/feapder\n",
      "谷歌reCaptcha验证码 / hCaptcha验证码 / funCaptcha验证码商业级识别接口：https://yescaptcha.com/i/NSwk7i\n"
     ]
    }
   ],
   "source": [
    "# 驗證碼\n",
    "chrome.find_element(\n",
    "    By.ID, \"BookingS1Form_homeCaptcha_passCode\").screenshot(\"captcha.png\")\n",
    "with open(\"captcha.png\", \"rb\") as f:\n",
    "    image_bytes = f.read()\n",
    "security_code = ddddocr.DdddOcr().classification(image_bytes)\n",
    "security_code_blank = chrome.find_element(By.ID, \"securityCode\")\n",
    "security_code_blank.clear()\n",
    "security_code_blank.send_keys(security_code)"
   ]
  },
  {
   "cell_type": "code",
   "execution_count": 31,
   "metadata": {},
   "outputs": [],
   "source": [
    "# 提交表單\n",
    "chrome.find_element(By.ID, \"SubmitButton\").click()"
   ]
  },
  {
   "cell_type": "code",
   "execution_count": 32,
   "metadata": {},
   "outputs": [
    {
     "name": "stdout",
     "output_type": "stream",
     "text": [
      " 1  621 10:10 10:21 早鳥9折,學生75折\n",
      " 2  817 10:34 10:45 早鳥8折,學生75折\n",
      " 3  625 10:43 10:53 早鳥8折,學生75折\n",
      " 4  627 11:10 11:21 早鳥9折,學生75折\n",
      " 5  821 11:34 11:45 早鳥9折,學生75折\n",
      " 6  633 12:10 12:21 早鳥9折,學生88折\n",
      " 7  825 12:34 12:45 早鳥9折,學生75折\n",
      " 8  639 13:10 13:21 學生88折\n",
      " 9  829 13:34 13:45 早鳥9折,學生75折\n",
      "10  833 14:34 14:45 早鳥9折,學生75折\n"
     ]
    }
   ],
   "source": [
    "# 取得班次\n",
    "class Car:\n",
    "    def __init__(self, departure: str, arrival: str, code: str, discount: str) -> None:\n",
    "        self.departure = departure\n",
    "        self.arrival = arrival\n",
    "        self.code = int(code)\n",
    "        self.discount = \"None\" if (discount == \"\") else discount\n",
    "\n",
    "car_list = list(map(lambda e: Car(e[0], e[1], e[2], e[3]), zip(\n",
    "    map(lambda e: e.text, chrome.find_elements(By.ID, \"QueryDeparture\")),\n",
    "    map(lambda e: e.text, chrome.find_elements(By.ID, \"QueryArrival\")),\n",
    "    map(lambda e: e.text, chrome.find_elements(By.ID, \"QueryCode\")),\n",
    "    map(lambda e: e.text.replace(\"\\n\", \",\"), chrome.find_elements(By.CSS_SELECTOR, \"div[class='discount uk-flex']\")))))\n",
    "\n",
    "for i in range(len(car_list)):\n",
    "    car = car_list[i]\n",
    "    print(f\"{i + 1:2d} {car.code:4d} {car.departure} {car.arrival} {car.discount}\")"
   ]
  },
  {
   "cell_type": "code",
   "execution_count": 33,
   "metadata": {},
   "outputs": [],
   "source": [
    "# 選擇班次\n",
    "SELECTED = 3\n",
    "chrome.find_elements(By.CSS_SELECTOR, \"input[type='radio']\")[SELECTED].click()"
   ]
  },
  {
   "cell_type": "code",
   "execution_count": 34,
   "metadata": {},
   "outputs": [],
   "source": [
    "# 提交確認車次\n",
    "chrome.find_element(By.XPATH, \"//*[@id='BookingS2Form']/section[2]/div/div/input\").click()"
   ]
  },
  {
   "cell_type": "code",
   "execution_count": 35,
   "metadata": {},
   "outputs": [],
   "source": [
    "# 輸入身份資訊\n",
    "ID = \"J123456789\"\n",
    "PHONE = \"0911222333\"\n",
    "EMAIL = \"abc@gmail.com\"\n",
    "\n",
    "id_blank = chrome.find_element(By.ID, \"idNumber\")\n",
    "id_blank.clear()\n",
    "id_blank.send_keys(ID)\n",
    "phone_blank = chrome.find_element(By.ID, \"mobilePhone\")\n",
    "phone_blank.clear()\n",
    "phone_blank.send_keys(PHONE)\n",
    "email_blank = chrome.find_element(By.ID, \"email\")\n",
    "email_blank.clear()\n",
    "email_blank.send_keys(EMAIL)\n",
    "chrome.find_element(By.XPATH, \"//*[@id='BookingS3FormSP']/section[2]/div[3]/div[1]/label/input\").click()"
   ]
  },
  {
   "cell_type": "code",
   "execution_count": 36,
   "metadata": {},
   "outputs": [],
   "source": [
    "# 完成訂票\n",
    "chrome.find_element(By.ID, \"isSubmit\").click()"
   ]
  },
  {
   "cell_type": "code",
   "execution_count": 37,
   "metadata": {},
   "outputs": [],
   "source": [
    "# 關閉學生優惠提醒視窗\n",
    "try:\n",
    "    chrome.find_element_and_wait(By.ID, \"step4StudentModalBtn\", 800).click()\n",
    "except:\n",
    "    pass"
   ]
  },
  {
   "cell_type": "code",
   "execution_count": 38,
   "metadata": {},
   "outputs": [
    {
     "data": {
      "text/plain": [
       "True"
      ]
     },
     "execution_count": 38,
     "metadata": {},
     "output_type": "execute_result"
    }
   ],
   "source": [
    "# 截圖\n",
    "chrome.find_element(By.XPATH, \"//*[@id='BookingS4Form']/section[1]\").screenshot(\"result.png\")"
   ]
  }
 ],
 "metadata": {
  "kernelspec": {
   "display_name": "Python 3",
   "language": "python",
   "name": "python3"
  },
  "language_info": {
   "codemirror_mode": {
    "name": "ipython",
    "version": 3
   },
   "file_extension": ".py",
   "mimetype": "text/x-python",
   "name": "python",
   "nbconvert_exporter": "python",
   "pygments_lexer": "ipython3",
   "version": "3.10.6"
  },
  "orig_nbformat": 4
 },
 "nbformat": 4,
 "nbformat_minor": 2
}
